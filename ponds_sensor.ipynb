{
 "cells": [
  {
   "cell_type": "code",
   "execution_count": 2,
   "metadata": {},
   "outputs": [],
   "source": [
    "import json\n",
    "from datetime import datetime\n",
    "from datetime import timedelta\n",
    "import numpy as np\n",
    "import pandas as pd\n",
    "from matplotlib import pyplot as plt\n",
    "from matplotlib import dates as mdates\n",
    "from firebase_admin import db\n",
    "from firebase_admin import credentials\n",
    "import pytz\n",
    "import data_generator\n",
    "import firebase"
   ]
  },
  {
   "cell_type": "code",
   "execution_count": 3,
   "metadata": {},
   "outputs": [
    {
     "data": {
      "text/plain": [
       "<firebase_admin.App at 0x17661edb9d0>"
      ]
     },
     "execution_count": 3,
     "metadata": {},
     "output_type": "execute_result"
    }
   ],
   "source": [
    "firebase.login(\"fb_key.json\")"
   ]
  },
  {
   "cell_type": "code",
   "execution_count": 4,
   "metadata": {},
   "outputs": [],
   "source": [
    "def to_datetime(dates, tz_aware=True):\n",
    "    \"\"\"\n",
    "    Standardizes the various types of string datetime formats\n",
    "    \"\"\"\n",
    "    dt = []\n",
    "    for i in dates:\n",
    "        i = i.replace('T','_')\n",
    "        i = i.replace('-','')\n",
    "        i = i.replace(' ', '_')\n",
    "        try:\n",
    "            i_dt = datetime.strptime(i, '%Y%m%d_%H:%M:%S')\n",
    "        except:\n",
    "            print(i)\n",
    "        if tz_aware:\n",
    "            tz = pytz.timezone('US/Eastern')\n",
    "            i_dt = tz.localize(i_dt)\n",
    "\n",
    "        dt.append(i_dt)\n",
    "    return np.array(dt)"
   ]
  },
  {
   "cell_type": "code",
   "execution_count": 53,
   "metadata": {},
   "outputs": [
    {
     "ename": "AttributeError",
     "evalue": "'tuple' object has no attribute 'append'",
     "output_type": "error",
     "traceback": [
      "\u001b[1;31m---------------------------------------------------------------------------\u001b[0m",
      "\u001b[1;31mAttributeError\u001b[0m                            Traceback (most recent call last)",
      "Cell \u001b[1;32mIn[53], line 11\u001b[0m\n\u001b[0;32m      9\u001b[0m     pressure \u001b[39m=\u001b[39m np\u001b[39m.\u001b[39marray(data[i][\u001b[39m'\u001b[39m\u001b[39mpressure\u001b[39m\u001b[39m'\u001b[39m])\n\u001b[0;32m     10\u001b[0m     max_ind \u001b[39m=\u001b[39m np\u001b[39m.\u001b[39mwhere(pressure\u001b[39m==\u001b[39mpressure\u001b[39m.\u001b[39mmax())\n\u001b[1;32m---> 11\u001b[0m     sampling_pt \u001b[39m=\u001b[39m max_ind\u001b[39m.\u001b[39;49mappend()\n\u001b[0;32m     12\u001b[0m     \u001b[39mprint\u001b[39m(sampling_pt)\n\u001b[0;32m     15\u001b[0m \u001b[39mprint\u001b[39m(pressure)\n",
      "\u001b[1;31mAttributeError\u001b[0m: 'tuple' object has no attribute 'append'"
     ]
    }
   ],
   "source": [
    "# class ponds_sensors():\n",
    "\n",
    "#     def __init__(self,name):\n",
    "ref = db.reference('/LH_Farm/pond_2')\n",
    "data = ref.get()\n",
    "sampling_pt = []\n",
    "\n",
    "for i in data:\n",
    "    pressure = np.array(data[i]['pressure'])\n",
    "    max_ind = np.where(pressure==pressure.max())\n",
    "    \n",
    "    print(sampling_pt)\n",
    "\n",
    "\n",
    "print(pressure)\n",
    "\n",
    "d_dt = to_datetime(data)\n",
    "do = np.array([(data[i]['do'][-1]) for i in data])\n",
    "heading = np.array([(data[i]['heading']) for i in data])\n",
    "init_do = np.array([(data[i]['init_do']) for i in data])\n",
    "init_pressure = np.array([(data[i]['init_pressure']) for i in data])\n",
    "lat = np.array([(data[i]['lat']) for i in data])\n",
    "lng = np.array([(data[i]['lng']) for i in data])\n",
    "pressure = np.array([(data[i]['pressure'][-1]) for i in data])\n",
    "temp = np.array([(data[i]['temp'][-1]) for i in data])\n",
    "\n",
    "print(do)\n",
    "        \n"
   ]
  }
 ],
 "metadata": {
  "kernelspec": {
   "display_name": "env-01",
   "language": "python",
   "name": "python3"
  },
  "language_info": {
   "codemirror_mode": {
    "name": "ipython",
    "version": 3
   },
   "file_extension": ".py",
   "mimetype": "text/x-python",
   "name": "python",
   "nbconvert_exporter": "python",
   "pygments_lexer": "ipython3",
   "version": "3.11.3"
  },
  "orig_nbformat": 4
 },
 "nbformat": 4,
 "nbformat_minor": 2
}
