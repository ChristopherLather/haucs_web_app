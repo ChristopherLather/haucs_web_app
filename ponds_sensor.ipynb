{
 "cells": [
  {
   "cell_type": "code",
   "execution_count": 1,
   "metadata": {},
   "outputs": [],
   "source": [
    "import json\n",
    "from datetime import datetime\n",
    "from datetime import timedelta\n",
    "import numpy as np\n",
    "import pandas as pd\n",
    "from matplotlib import pyplot as plt\n",
    "from matplotlib import dates as mdates\n",
    "from firebase_admin import db\n",
    "from firebase_admin import credentials\n",
    "import pytz\n",
    "import data_generator\n",
    "import firebase"
   ]
  },
  {
   "cell_type": "code",
   "execution_count": 2,
   "metadata": {},
   "outputs": [
    {
     "ename": "JSONDecodeError",
     "evalue": "Expecting value: line 1 column 1 (char 0)",
     "output_type": "error",
     "traceback": [
      "\u001b[1;31m---------------------------------------------------------------------------\u001b[0m",
      "\u001b[1;31mJSONDecodeError\u001b[0m                           Traceback (most recent call last)",
      "Cell \u001b[1;32mIn[2], line 1\u001b[0m\n\u001b[1;32m----> 1\u001b[0m firebase\u001b[39m.\u001b[39;49mlogin(\u001b[39m\"\u001b[39;49m\u001b[39mfb_key.json\u001b[39;49m\u001b[39m\"\u001b[39;49m)\n",
      "File \u001b[1;32mc:\\Users\\mafer\\Documents\\FAU HAUCS\\Web Application Biomass\\firebase.py:22\u001b[0m, in \u001b[0;36mlogin\u001b[1;34m(key_dict)\u001b[0m\n\u001b[0;32m     16\u001b[0m \u001b[39mdef\u001b[39;00m \u001b[39mlogin\u001b[39m(key_dict):\n\u001b[0;32m     17\u001b[0m \u001b[39m    \u001b[39m\u001b[39m\"\"\"\u001b[39;00m\n\u001b[0;32m     18\u001b[0m \u001b[39m    Start a Firebase Instance\u001b[39;00m\n\u001b[0;32m     19\u001b[0m \n\u001b[0;32m     20\u001b[0m \u001b[39m    return: an app instance\u001b[39;00m\n\u001b[0;32m     21\u001b[0m \u001b[39m    \"\"\"\u001b[39;00m\n\u001b[1;32m---> 22\u001b[0m     data \u001b[39m=\u001b[39m json\u001b[39m.\u001b[39;49mloads(key_dict)\n\u001b[0;32m     23\u001b[0m     cred \u001b[39m=\u001b[39m credentials\u001b[39m.\u001b[39mCertificate(data)\n\u001b[0;32m     24\u001b[0m     \u001b[39mreturn\u001b[39;00m firebase_admin\u001b[39m.\u001b[39minitialize_app(cred, {\u001b[39m'\u001b[39m\u001b[39mdatabaseURL\u001b[39m\u001b[39m'\u001b[39m: \u001b[39m'\u001b[39m\u001b[39mhttps://haucs-monitoring-default-rtdb.firebaseio.com\u001b[39m\u001b[39m'\u001b[39m})\n",
      "File \u001b[1;32mc:\\Users\\mafer\\Anaconda3\\envs\\env-01\\Lib\\json\\__init__.py:346\u001b[0m, in \u001b[0;36mloads\u001b[1;34m(s, cls, object_hook, parse_float, parse_int, parse_constant, object_pairs_hook, **kw)\u001b[0m\n\u001b[0;32m    341\u001b[0m     s \u001b[39m=\u001b[39m s\u001b[39m.\u001b[39mdecode(detect_encoding(s), \u001b[39m'\u001b[39m\u001b[39msurrogatepass\u001b[39m\u001b[39m'\u001b[39m)\n\u001b[0;32m    343\u001b[0m \u001b[39mif\u001b[39;00m (\u001b[39mcls\u001b[39m \u001b[39mis\u001b[39;00m \u001b[39mNone\u001b[39;00m \u001b[39mand\u001b[39;00m object_hook \u001b[39mis\u001b[39;00m \u001b[39mNone\u001b[39;00m \u001b[39mand\u001b[39;00m\n\u001b[0;32m    344\u001b[0m         parse_int \u001b[39mis\u001b[39;00m \u001b[39mNone\u001b[39;00m \u001b[39mand\u001b[39;00m parse_float \u001b[39mis\u001b[39;00m \u001b[39mNone\u001b[39;00m \u001b[39mand\u001b[39;00m\n\u001b[0;32m    345\u001b[0m         parse_constant \u001b[39mis\u001b[39;00m \u001b[39mNone\u001b[39;00m \u001b[39mand\u001b[39;00m object_pairs_hook \u001b[39mis\u001b[39;00m \u001b[39mNone\u001b[39;00m \u001b[39mand\u001b[39;00m \u001b[39mnot\u001b[39;00m kw):\n\u001b[1;32m--> 346\u001b[0m     \u001b[39mreturn\u001b[39;00m _default_decoder\u001b[39m.\u001b[39;49mdecode(s)\n\u001b[0;32m    347\u001b[0m \u001b[39mif\u001b[39;00m \u001b[39mcls\u001b[39m \u001b[39mis\u001b[39;00m \u001b[39mNone\u001b[39;00m:\n\u001b[0;32m    348\u001b[0m     \u001b[39mcls\u001b[39m \u001b[39m=\u001b[39m JSONDecoder\n",
      "File \u001b[1;32mc:\\Users\\mafer\\Anaconda3\\envs\\env-01\\Lib\\json\\decoder.py:337\u001b[0m, in \u001b[0;36mJSONDecoder.decode\u001b[1;34m(self, s, _w)\u001b[0m\n\u001b[0;32m    332\u001b[0m \u001b[39mdef\u001b[39;00m \u001b[39mdecode\u001b[39m(\u001b[39mself\u001b[39m, s, _w\u001b[39m=\u001b[39mWHITESPACE\u001b[39m.\u001b[39mmatch):\n\u001b[0;32m    333\u001b[0m \u001b[39m    \u001b[39m\u001b[39m\"\"\"Return the Python representation of ``s`` (a ``str`` instance\u001b[39;00m\n\u001b[0;32m    334\u001b[0m \u001b[39m    containing a JSON document).\u001b[39;00m\n\u001b[0;32m    335\u001b[0m \n\u001b[0;32m    336\u001b[0m \u001b[39m    \"\"\"\u001b[39;00m\n\u001b[1;32m--> 337\u001b[0m     obj, end \u001b[39m=\u001b[39m \u001b[39mself\u001b[39;49m\u001b[39m.\u001b[39;49mraw_decode(s, idx\u001b[39m=\u001b[39;49m_w(s, \u001b[39m0\u001b[39;49m)\u001b[39m.\u001b[39;49mend())\n\u001b[0;32m    338\u001b[0m     end \u001b[39m=\u001b[39m _w(s, end)\u001b[39m.\u001b[39mend()\n\u001b[0;32m    339\u001b[0m     \u001b[39mif\u001b[39;00m end \u001b[39m!=\u001b[39m \u001b[39mlen\u001b[39m(s):\n",
      "File \u001b[1;32mc:\\Users\\mafer\\Anaconda3\\envs\\env-01\\Lib\\json\\decoder.py:355\u001b[0m, in \u001b[0;36mJSONDecoder.raw_decode\u001b[1;34m(self, s, idx)\u001b[0m\n\u001b[0;32m    353\u001b[0m     obj, end \u001b[39m=\u001b[39m \u001b[39mself\u001b[39m\u001b[39m.\u001b[39mscan_once(s, idx)\n\u001b[0;32m    354\u001b[0m \u001b[39mexcept\u001b[39;00m \u001b[39mStopIteration\u001b[39;00m \u001b[39mas\u001b[39;00m err:\n\u001b[1;32m--> 355\u001b[0m     \u001b[39mraise\u001b[39;00m JSONDecodeError(\u001b[39m\"\u001b[39m\u001b[39mExpecting value\u001b[39m\u001b[39m\"\u001b[39m, s, err\u001b[39m.\u001b[39mvalue) \u001b[39mfrom\u001b[39;00m \u001b[39mNone\u001b[39;00m\n\u001b[0;32m    356\u001b[0m \u001b[39mreturn\u001b[39;00m obj, end\n",
      "\u001b[1;31mJSONDecodeError\u001b[0m: Expecting value: line 1 column 1 (char 0)"
     ]
    }
   ],
   "source": [
    "firebase.login(\"fb_key.json\")"
   ]
  },
  {
   "cell_type": "code",
   "execution_count": null,
   "metadata": {},
   "outputs": [],
   "source": [
    "def to_datetime(dates, tz_aware=True):\n",
    "    \"\"\"\n",
    "    Standardizes the various types of string datetime formats\n",
    "    \"\"\"\n",
    "    dt = []\n",
    "    for i in dates:\n",
    "        i = i.replace('T','_')\n",
    "        i = i.replace('-','')\n",
    "        i = i.replace(' ', '_')\n",
    "        try:\n",
    "            i_dt = datetime.strptime(i, '%Y%m%d_%H:%M:%S')\n",
    "        except:\n",
    "            print(i)\n",
    "        if tz_aware:\n",
    "            tz = pytz.timezone('US/Eastern')\n",
    "            i_dt = tz.localize(i_dt)\n",
    "\n",
    "        dt.append(i_dt)\n",
    "    return np.array(dt)"
   ]
  },
  {
   "cell_type": "code",
   "execution_count": 4,
   "metadata": {},
   "outputs": [
    {
     "ename": "ValueError",
     "evalue": "The default Firebase app does not exist. Make sure to initialize the SDK by calling initialize_app().",
     "output_type": "error",
     "traceback": [
      "\u001b[1;31m---------------------------------------------------------------------------\u001b[0m",
      "\u001b[1;31mValueError\u001b[0m                                Traceback (most recent call last)",
      "Cell \u001b[1;32mIn[4], line 4\u001b[0m\n\u001b[0;32m      1\u001b[0m \u001b[39m# class ponds_sensors():\u001b[39;00m\n\u001b[0;32m      2\u001b[0m \n\u001b[0;32m      3\u001b[0m \u001b[39m#     def __init__(self,name):\u001b[39;00m\n\u001b[1;32m----> 4\u001b[0m ref \u001b[39m=\u001b[39m db\u001b[39m.\u001b[39;49mreference(\u001b[39m'\u001b[39;49m\u001b[39m/LH_Farm/pond_2\u001b[39;49m\u001b[39m'\u001b[39;49m)\n\u001b[0;32m      5\u001b[0m data \u001b[39m=\u001b[39m ref\u001b[39m.\u001b[39mget()\n\u001b[0;32m      6\u001b[0m sampling_pt \u001b[39m=\u001b[39m []\n",
      "File \u001b[1;32mc:\\Users\\mafer\\Anaconda3\\envs\\env-01\\Lib\\site-packages\\firebase_admin\\db.py:68\u001b[0m, in \u001b[0;36mreference\u001b[1;34m(path, app, url)\u001b[0m\n\u001b[0;32m     48\u001b[0m \u001b[39mdef\u001b[39;00m \u001b[39mreference\u001b[39m(path\u001b[39m=\u001b[39m\u001b[39m'\u001b[39m\u001b[39m/\u001b[39m\u001b[39m'\u001b[39m, app\u001b[39m=\u001b[39m\u001b[39mNone\u001b[39;00m, url\u001b[39m=\u001b[39m\u001b[39mNone\u001b[39;00m):\n\u001b[0;32m     49\u001b[0m \u001b[39m    \u001b[39m\u001b[39m\"\"\"Returns a database ``Reference`` representing the node at the specified path.\u001b[39;00m\n\u001b[0;32m     50\u001b[0m \n\u001b[0;32m     51\u001b[0m \u001b[39m    If no path is specified, this function returns a ``Reference`` that represents the database\u001b[39;00m\n\u001b[1;32m   (...)\u001b[0m\n\u001b[0;32m     66\u001b[0m \u001b[39m      ValueError: If the specified path or app is invalid.\u001b[39;00m\n\u001b[0;32m     67\u001b[0m \u001b[39m    \"\"\"\u001b[39;00m\n\u001b[1;32m---> 68\u001b[0m     service \u001b[39m=\u001b[39m _utils\u001b[39m.\u001b[39;49mget_app_service(app, _DB_ATTRIBUTE, _DatabaseService)\n\u001b[0;32m     69\u001b[0m     client \u001b[39m=\u001b[39m service\u001b[39m.\u001b[39mget_client(url)\n\u001b[0;32m     70\u001b[0m     \u001b[39mreturn\u001b[39;00m Reference(client\u001b[39m=\u001b[39mclient, path\u001b[39m=\u001b[39mpath)\n",
      "File \u001b[1;32mc:\\Users\\mafer\\Anaconda3\\envs\\env-01\\Lib\\site-packages\\firebase_admin\\_utils.py:97\u001b[0m, in \u001b[0;36mget_app_service\u001b[1;34m(app, name, initializer)\u001b[0m\n\u001b[0;32m     96\u001b[0m \u001b[39mdef\u001b[39;00m \u001b[39mget_app_service\u001b[39m(app, name, initializer):\n\u001b[1;32m---> 97\u001b[0m     app \u001b[39m=\u001b[39m _get_initialized_app(app)\n\u001b[0;32m     98\u001b[0m     \u001b[39mreturn\u001b[39;00m app\u001b[39m.\u001b[39m_get_service(name, initializer)\n",
      "File \u001b[1;32mc:\\Users\\mafer\\Anaconda3\\envs\\env-01\\Lib\\site-packages\\firebase_admin\\_utils.py:82\u001b[0m, in \u001b[0;36m_get_initialized_app\u001b[1;34m(app)\u001b[0m\n\u001b[0;32m     80\u001b[0m \u001b[39m\u001b[39m\u001b[39m\"\"\"Returns a reference to an initialized App instance.\"\"\"\u001b[39;00m\n\u001b[0;32m     81\u001b[0m \u001b[39mif\u001b[39;00m app \u001b[39mis\u001b[39;00m \u001b[39mNone\u001b[39;00m:\n\u001b[1;32m---> 82\u001b[0m     \u001b[39mreturn\u001b[39;00m firebase_admin\u001b[39m.\u001b[39;49mget_app()\n\u001b[0;32m     84\u001b[0m \u001b[39mif\u001b[39;00m \u001b[39misinstance\u001b[39m(app, firebase_admin\u001b[39m.\u001b[39mApp):\n\u001b[0;32m     85\u001b[0m     initialized_app \u001b[39m=\u001b[39m firebase_admin\u001b[39m.\u001b[39mget_app(app\u001b[39m.\u001b[39mname)\n",
      "File \u001b[1;32mc:\\Users\\mafer\\Anaconda3\\envs\\env-01\\Lib\\site-packages\\firebase_admin\\__init__.py:135\u001b[0m, in \u001b[0;36mget_app\u001b[1;34m(name)\u001b[0m\n\u001b[0;32m    132\u001b[0m         \u001b[39mreturn\u001b[39;00m _apps[name]\n\u001b[0;32m    134\u001b[0m \u001b[39mif\u001b[39;00m name \u001b[39m==\u001b[39m _DEFAULT_APP_NAME:\n\u001b[1;32m--> 135\u001b[0m     \u001b[39mraise\u001b[39;00m \u001b[39mValueError\u001b[39;00m(\n\u001b[0;32m    136\u001b[0m         \u001b[39m'\u001b[39m\u001b[39mThe default Firebase app does not exist. Make sure to initialize \u001b[39m\u001b[39m'\u001b[39m\n\u001b[0;32m    137\u001b[0m         \u001b[39m'\u001b[39m\u001b[39mthe SDK by calling initialize_app().\u001b[39m\u001b[39m'\u001b[39m)\n\u001b[0;32m    139\u001b[0m \u001b[39mraise\u001b[39;00m \u001b[39mValueError\u001b[39;00m(\n\u001b[0;32m    140\u001b[0m     (\u001b[39m'\u001b[39m\u001b[39mFirebase app named \u001b[39m\u001b[39m\"\u001b[39m\u001b[39m{0}\u001b[39;00m\u001b[39m\"\u001b[39m\u001b[39m does not exist. Make sure to initialize \u001b[39m\u001b[39m'\u001b[39m\n\u001b[0;32m    141\u001b[0m      \u001b[39m'\u001b[39m\u001b[39mthe SDK by calling initialize_app() with your app name as the \u001b[39m\u001b[39m'\u001b[39m\n\u001b[0;32m    142\u001b[0m      \u001b[39m'\u001b[39m\u001b[39msecond argument.\u001b[39m\u001b[39m'\u001b[39m)\u001b[39m.\u001b[39mformat(name))\n",
      "\u001b[1;31mValueError\u001b[0m: The default Firebase app does not exist. Make sure to initialize the SDK by calling initialize_app()."
     ]
    }
   ],
   "source": [
    "# class ponds_sensors():\n",
    "\n",
    "#     def __init__(self,name):\n",
    "ref = db.reference('/LH_Farm/pond_2')\n",
    "data = ref.get()\n",
    "sampling_pt = []\n",
    "\n",
    "# for i in data:\n",
    "#     pressure = np.array(data[i]['pressure'])\n",
    "#     max_ind = np.where(pressure==pressure.max())\n",
    "    \n",
    "#     print(sampling_pt)\n",
    "\n",
    "\n",
    "# print(pressure)\n",
    "\n",
    "d_dt = to_datetime(data)\n",
    "do = np.array([(data[i]['do'][-1]) for i in data])\n",
    "heading = np.array([(data[i]['heading']) for i in data])\n",
    "init_do = np.array([(data[i]['init_do']) for i in data])\n",
    "init_pressure = np.array([(data[i]['init_pressure']) for i in data])\n",
    "lat = np.array([(data[i]['lat']) for i in data])\n",
    "lng = np.array([(data[i]['lng']) for i in data])\n",
    "pressure = np.array([(data[i]['pressure'][-1]) for i in data])\n",
    "temp = np.array([(data[i]['temp'][-1]) for i in data])\n",
    "\n",
    "print(do)\n",
    "        \n"
   ]
  }
 ],
 "metadata": {
  "kernelspec": {
   "display_name": "env-01",
   "language": "python",
   "name": "python3"
  },
  "language_info": {
   "codemirror_mode": {
    "name": "ipython",
    "version": 3
   },
   "file_extension": ".py",
   "mimetype": "text/x-python",
   "name": "python",
   "nbconvert_exporter": "python",
   "pygments_lexer": "ipython3",
   "version": "3.11.3"
  },
  "orig_nbformat": 4
 },
 "nbformat": 4,
 "nbformat_minor": 2
}
