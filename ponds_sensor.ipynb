{
 "cells": [
  {
   "cell_type": "code",
   "execution_count": 36,
   "metadata": {},
   "outputs": [],
   "source": [
    "import json\n",
    "from datetime import datetime\n",
    "from datetime import timedelta\n",
    "import numpy as np\n",
    "import pandas as pd\n",
    "from matplotlib import pyplot as plt\n",
    "from matplotlib import dates as mdates\n",
    "from firebase_admin import db\n",
    "from firebase_admin import credentials\n",
    "import pytz\n",
    "import data_generator\n",
    "import firebase"
   ]
  },
  {
   "cell_type": "code",
   "execution_count": 37,
   "metadata": {},
   "outputs": [
    {
     "ename": "ValueError",
     "evalue": "The default Firebase app already exists. This means you called initialize_app() more than once without providing an app name as the second argument. In most cases you only need to call initialize_app() once. But if you do want to initialize multiple apps, pass a second argument to initialize_app() to give each app a unique name.",
     "output_type": "error",
     "traceback": [
      "\u001b[1;31m---------------------------------------------------------------------------\u001b[0m",
      "\u001b[1;31mValueError\u001b[0m                                Traceback (most recent call last)",
      "Cell \u001b[1;32mIn[37], line 4\u001b[0m\n\u001b[0;32m      1\u001b[0m \u001b[39mwith\u001b[39;00m \u001b[39mopen\u001b[39m(\u001b[39m'\u001b[39m\u001b[39mfb_key.json\u001b[39m\u001b[39m'\u001b[39m,\u001b[39m'\u001b[39m\u001b[39mr\u001b[39m\u001b[39m'\u001b[39m) \u001b[39mas\u001b[39;00m file:\n\u001b[0;32m      2\u001b[0m     fb_key \u001b[39m=\u001b[39m file\u001b[39m.\u001b[39mread()\n\u001b[1;32m----> 4\u001b[0m fb_app \u001b[39m=\u001b[39m firebase\u001b[39m.\u001b[39;49mlogin(fb_key)\n",
      "File \u001b[1;32mc:\\Users\\mafer\\Documents\\FAU HAUCS\\Web Application Biomass\\firebase.py:24\u001b[0m, in \u001b[0;36mlogin\u001b[1;34m(key_dict)\u001b[0m\n\u001b[0;32m     22\u001b[0m data \u001b[39m=\u001b[39m json\u001b[39m.\u001b[39mloads(key_dict)\n\u001b[0;32m     23\u001b[0m cred \u001b[39m=\u001b[39m credentials\u001b[39m.\u001b[39mCertificate(data)\n\u001b[1;32m---> 24\u001b[0m \u001b[39mreturn\u001b[39;00m firebase_admin\u001b[39m.\u001b[39;49minitialize_app(cred, {\u001b[39m'\u001b[39;49m\u001b[39mdatabaseURL\u001b[39;49m\u001b[39m'\u001b[39;49m: \u001b[39m'\u001b[39;49m\u001b[39mhttps://haucs-monitoring-default-rtdb.firebaseio.com\u001b[39;49m\u001b[39m'\u001b[39;49m})\n",
      "File \u001b[1;32mc:\\Users\\mafer\\Anaconda3\\envs\\env-01\\Lib\\site-packages\\firebase_admin\\__init__.py:71\u001b[0m, in \u001b[0;36minitialize_app\u001b[1;34m(credential, options, name)\u001b[0m\n\u001b[0;32m     68\u001b[0m         \u001b[39mreturn\u001b[39;00m app\n\u001b[0;32m     70\u001b[0m \u001b[39mif\u001b[39;00m name \u001b[39m==\u001b[39m _DEFAULT_APP_NAME:\n\u001b[1;32m---> 71\u001b[0m     \u001b[39mraise\u001b[39;00m \u001b[39mValueError\u001b[39;00m((\n\u001b[0;32m     72\u001b[0m         \u001b[39m'\u001b[39m\u001b[39mThe default Firebase app already exists. This means you called \u001b[39m\u001b[39m'\u001b[39m\n\u001b[0;32m     73\u001b[0m         \u001b[39m'\u001b[39m\u001b[39minitialize_app() more than once without providing an app name as \u001b[39m\u001b[39m'\u001b[39m\n\u001b[0;32m     74\u001b[0m         \u001b[39m'\u001b[39m\u001b[39mthe second argument. In most cases you only need to call \u001b[39m\u001b[39m'\u001b[39m\n\u001b[0;32m     75\u001b[0m         \u001b[39m'\u001b[39m\u001b[39minitialize_app() once. But if you do want to initialize multiple \u001b[39m\u001b[39m'\u001b[39m\n\u001b[0;32m     76\u001b[0m         \u001b[39m'\u001b[39m\u001b[39mapps, pass a second argument to initialize_app() to give each app \u001b[39m\u001b[39m'\u001b[39m\n\u001b[0;32m     77\u001b[0m         \u001b[39m'\u001b[39m\u001b[39ma unique name.\u001b[39m\u001b[39m'\u001b[39m))\n\u001b[0;32m     79\u001b[0m \u001b[39mraise\u001b[39;00m \u001b[39mValueError\u001b[39;00m((\n\u001b[0;32m     80\u001b[0m     \u001b[39m'\u001b[39m\u001b[39mFirebase app named \u001b[39m\u001b[39m\"\u001b[39m\u001b[39m{0}\u001b[39;00m\u001b[39m\"\u001b[39m\u001b[39m already exists. This means you called \u001b[39m\u001b[39m'\u001b[39m\n\u001b[0;32m     81\u001b[0m     \u001b[39m'\u001b[39m\u001b[39minitialize_app() more than once with the same app name as the \u001b[39m\u001b[39m'\u001b[39m\n\u001b[0;32m     82\u001b[0m     \u001b[39m'\u001b[39m\u001b[39msecond argument. Make sure you provide a unique name every time \u001b[39m\u001b[39m'\u001b[39m\n\u001b[0;32m     83\u001b[0m     \u001b[39m'\u001b[39m\u001b[39myou call initialize_app().\u001b[39m\u001b[39m'\u001b[39m)\u001b[39m.\u001b[39mformat(name))\n",
      "\u001b[1;31mValueError\u001b[0m: The default Firebase app already exists. This means you called initialize_app() more than once without providing an app name as the second argument. In most cases you only need to call initialize_app() once. But if you do want to initialize multiple apps, pass a second argument to initialize_app() to give each app a unique name."
     ]
    }
   ],
   "source": [
    "with open('fb_key.json','r') as file:\n",
    "    fb_key = file.read()\n",
    "\n",
    "fb_app = firebase.login(fb_key)"
   ]
  },
  {
   "cell_type": "code",
   "execution_count": null,
   "metadata": {},
   "outputs": [],
   "source": [
    "def to_datetime(dates, tz_aware=True):\n",
    "    \"\"\"\n",
    "    Standardizes the various types of string datetime formats\n",
    "    \"\"\"\n",
    "    dt = []\n",
    "    for i in dates:\n",
    "        i = i.replace('T','_')\n",
    "        i = i.replace('-','')\n",
    "        i = i.replace(' ', '_')\n",
    "        try:\n",
    "            i_dt = datetime.strptime(i, '%Y%m%d_%H:%M:%S')\n",
    "        except:\n",
    "            print(i)\n",
    "        if tz_aware:\n",
    "            tz = pytz.timezone('US/Eastern')\n",
    "            i_dt = tz.localize(i_dt)\n",
    "\n",
    "        dt.append(i_dt)\n",
    "    return np.array(dt)"
   ]
  },
  {
   "cell_type": "code",
   "execution_count": 66,
   "metadata": {},
   "outputs": [
    {
     "name": "stdout",
     "output_type": "stream",
     "text": [
      "[1082 1034 1086 1088 1086 1024 1050]\n",
      "[111, 112, 120, 91, 171, 78, 82]\n",
      "[22.3  16.84 15.64 18.44 27.01 20.52 16.25]\n"
     ]
    }
   ],
   "source": [
    "# class ponds_sensors():\n",
    "\n",
    "#     def __init__(self,name):\n",
    "ref = db.reference('/LH_Farm/pond_2')\n",
    "data = ref.get()\n",
    "final_pressure=[]\n",
    "final_do = []\n",
    "final_temp = []\n",
    "\n",
    "for i in data:\n",
    "    pressure = data[i]['pressure']\n",
    "    do = data[i]['do']\n",
    "    temp = data[i]['temp']\n",
    "    high_pressure = max(pressure)\n",
    "    index_hp = pressure.index(high_pressure)\n",
    "    final_pressure.append(pressure[index_hp])\n",
    "    final_do.append(do[index_hp])\n",
    "    final_temp.append(temp[index_hp])\n",
    "\n",
    "pressure = final_pressure\n",
    "do = final_do\n",
    "temp = final_temp\n",
    "d_dt = to_datetime(data)\n",
    "heading = np.array([(data[i]['heading']) for i in data])\n",
    "init_do = np.array([(data[i]['init_do']) for i in data])\n",
    "init_pressure = np.array([(data[i]['init_pressure']) for i in data])\n",
    "lat = np.array([(data[i]['lat']) for i in data])\n",
    "lng = np.array([(data[i]['lng']) for i in data])\n",
    "temp = np.array([(data[i]['temp'][-1]) for i in data])\n"
   ]
  }
 ],
 "metadata": {
  "kernelspec": {
   "display_name": "env-01",
   "language": "python",
   "name": "python3"
  },
  "language_info": {
   "codemirror_mode": {
    "name": "ipython",
    "version": 3
   },
   "file_extension": ".py",
   "mimetype": "text/x-python",
   "name": "python",
   "nbconvert_exporter": "python",
   "pygments_lexer": "ipython3",
   "version": "3.11.3"
  },
  "orig_nbformat": 4
 },
 "nbformat": 4,
 "nbformat_minor": 2
}
